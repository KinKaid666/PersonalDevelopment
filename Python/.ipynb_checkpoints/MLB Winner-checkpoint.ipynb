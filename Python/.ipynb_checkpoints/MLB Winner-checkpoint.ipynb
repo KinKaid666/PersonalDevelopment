{
 "cells": [
  {
   "cell_type": "code",
   "execution_count": 10,
   "metadata": {},
   "outputs": [],
   "source": [
    "YW = 40  #Yankees Wins\n",
    "AW = 40  #Astros Wins\n",
    "\n",
    "YAW = 10 #Yankees Ace Wins (Cole)\n",
    "AAW = 8  #Stros Ace Wins (Verlander)\n",
    "\n",
    "YHR = 15 #Yankee HRs (Judge)\n",
    "AHR = 15 #Stros HRs (Bregman)\n",
    "\n",
    "#determine $100 winner\n",
    "def Winner():\n",
    "    if (YW-(YAW-AAW))-AW > 0:\n",
    "        print (\"Eric Wins with no tiebreaker\")  \n",
    "    elif (YW-(YAW-AAW))-AW < 0:\n",
    "        print (\"Matt Wins with no tiebreaker\")\n",
    "    elif YHR > AHR: \n",
    "        print (\"Eric Wins with HR tiebreaker\")\n",
    "    elif YHR < AHR: \n",
    "        print (\"Matt Wins with HR tiebreaker\")\n",
    "    else: \n",
    "        print(\"All tied up - No bet\")"
   ]
  },
  {
   "cell_type": "code",
   "execution_count": 17,
   "metadata": {},
   "outputs": [
    {
     "name": "stdout",
     "output_type": "stream",
     "text": [
      "Stats for the bet:        (Yankees are listed as positive, Astros as negative)\n",
      "Yankee Win Variance is 0 (Yankees= 40 Astros= 40)\n",
      "Yankee Ace Win Adjustment is -2 (Yankees= 10 Astros= 8)\n",
      "Adjusted Variance is -2\n",
      "\n",
      "And the winner is:\n",
      "Matt Wins with no tiebreaker\n"
     ]
    }
   ],
   "source": [
    "print(\"Stats for the bet:        (Yankees are listed as positive, Astros as negative)\")\n",
    "print(\"Yankee Win Variance is \" +str(YW-AW) + \" (Yankees= \" +str(YW)+ \" Astros= \" +str(AW)+ \")\")\n",
    "print(\"Yankee Ace Win Adjustment is \" + str(-(YAW-AAW)) + \" (Yankees= \" +str(YAW)+ \" Astros= \" +str(AAW)+ \")\")\n",
    "print(\"Adjusted Variance is \" +str((YW-AW)-(YAW-AAW)))\n",
    "print(\"\")\n",
    "print(\"And the winner is:\")\n",
    "Winner()"
   ]
  }
 ],
 "metadata": {
  "kernelspec": {
   "display_name": "Python 3",
   "language": "python",
   "name": "python3"
  },
  "language_info": {
   "codemirror_mode": {
    "name": "ipython",
    "version": 3
   },
   "file_extension": ".py",
   "mimetype": "text/x-python",
   "name": "python",
   "nbconvert_exporter": "python",
   "pygments_lexer": "ipython3",
   "version": "3.7.3"
  }
 },
 "nbformat": 4,
 "nbformat_minor": 4
}
